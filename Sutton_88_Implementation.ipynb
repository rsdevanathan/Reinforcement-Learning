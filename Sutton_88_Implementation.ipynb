{
 "cells": [
  {
   "cell_type": "code",
   "execution_count": 1,
   "metadata": {},
   "outputs": [],
   "source": [
    "import numpy as np\n",
    "import pandas as pd\n",
    "import random\n",
    "from matplotlib import pyplot as plt\n",
    "random.seed(99)"
   ]
  },
  {
   "cell_type": "markdown",
   "metadata": {},
   "source": [
    "# Defining States Dictionary\n",
    "\n",
    "Non-Terminal states are defined as a dictionary with the state name as key and right and left states as values to generate the sequence data"
   ]
  },
  {
   "cell_type": "code",
   "execution_count": 2,
   "metadata": {},
   "outputs": [],
   "source": [
    "states = {\n",
    "           \"B\":{\"right\":\"C\",\"left\":\"A\"}\n",
    "          ,\"C\":{\"right\":\"D\",\"left\":\"B\"}\n",
    "          ,\"D\":{\"right\":\"E\",\"left\":\"C\"}\n",
    "          ,\"E\":{\"right\":\"F\",\"left\":\"D\"}\n",
    "          ,\"F\":{\"right\":\"G\",\"left\":\"A\"}\n",
    "         }\n",
    "states_list = list(states.keys())\n",
    "terminal_state = [\"A\",\"G\"]"
   ]
  },
  {
   "cell_type": "markdown",
   "metadata": {},
   "source": [
    "# Training Data Generation\n",
    "\n",
    "A training data of 100 sets each with 10 sequences is generated. Each sequence starts with state \"D\" and ends in the terminal state of either \"A\" or \"G\". Each non terminal state has a probability of 0.5 to move to either left or right state."
   ]
  },
  {
   "cell_type": "code",
   "execution_count": 3,
   "metadata": {},
   "outputs": [],
   "source": [
    "training_data = []\n",
    "for i in range(100):\n",
    "    training_set = []\n",
    "    for i in range(10):\n",
    "        Terminal = False\n",
    "        state = \"D\"\n",
    "        sequence =[\"D\"]\n",
    "        while not Terminal:\n",
    "            new_state = states[state][\"right\"] if random.random() > 0.5 else states[state][\"left\"]\n",
    "            if new_state in terminal_state:\n",
    "                sequence.append(new_state)\n",
    "                Terminal = True\n",
    "            else:\n",
    "                sequence.append(new_state)\n",
    "                state = new_state   \n",
    "        training_set.append(sequence)\n",
    "    training_data.append(training_set)"
   ]
  },
  {
   "cell_type": "markdown",
   "metadata": {},
   "source": [
    "# True Probability\n",
    "\n",
    "The true probabilities of right-side termination the ideal predictions is given as 1/6,2/6,3/6,4/6,5/6 for states B, C, D, E and F, respectively."
   ]
  },
  {
   "cell_type": "code",
   "execution_count": 4,
   "metadata": {},
   "outputs": [],
   "source": [
    "true_prob = np.array([1/6,2/6,3/6,4/6,5/6])"
   ]
  },
  {
   "cell_type": "markdown",
   "metadata": {},
   "source": [
    "# Delta Weights\n",
    "Below is the utility function to calculate delta weight for each sequence using equation 4 in http://incompleteideas.net/papers/sutton-88-with-erratum.pdf . The function is used in the experiments."
   ]
  },
  {
   "cell_type": "code",
   "execution_count": 5,
   "metadata": {},
   "outputs": [],
   "source": [
    "def calulate_sequence_delta_weights(sequence,weights,lmbda,learning_rate):\n",
    "    eligibility_trace = np.zeros(5)\n",
    "    sequence_delta_weights = np.zeros(5)\n",
    "    for state_pos,_ in enumerate(sequence):\n",
    "        current_state = sequence[state_pos]   \n",
    "        if current_state not in terminal_state:\n",
    "            next_state = sequence[state_pos + 1]\n",
    "            # In our random walk example gradient will be just X_t which is nothing but the unit vecto generated below\n",
    "            gradient = np.array([int(i == states_list.index(current_state)) for i in range(5)])\n",
    "            eligibility_trace = (lmbda * eligibility_trace) + gradient\n",
    "            # p_t is w*x_t where x_t is a unit vector. Since it is implemented as a list, instead of unit vecor direct index is used\n",
    "            p_t = weights[states_list.index(current_state)]     \n",
    "            # p_t is w*x_t_plus_1 where x_t_plus_1 is a unit vector. Since it is implemented as a list, instead of unit vecor direct index is used\n",
    "            p_t_plus_1 = weights[states_list.index(next_state)]  if next_state not in terminal_state else 1 if next_state == \"G\" else 0\n",
    "            state_delta_weight = learning_rate * (p_t_plus_1 - p_t) * eligibility_trace\n",
    "            sequence_delta_weights += state_delta_weight\n",
    "    return sequence_delta_weights"
   ]
  },
  {
   "cell_type": "markdown",
   "metadata": {},
   "source": [
    "# Repeated presentation\n",
    "\n",
    "In Repeated Presentation, TD(Lambda) is run on each training set repeatedly until it converges. The weight is updated with accumulated delta over all the sequences in the training set."
   ]
  },
  {
   "cell_type": "code",
   "execution_count": 6,
   "metadata": {},
   "outputs": [],
   "source": [
    "def TD_lambda_repeated_presentation(training_data,lmbda,learning_rate):\n",
    "    rmse = 0\n",
    "    for training_set in training_data:\n",
    "        weights = np.array([0.5,0.5,0.5,0.5,0.5])\n",
    "        continue_until_convergence = True\n",
    "        while continue_until_convergence:             \n",
    "            cumulative_delta_weights = np.zeros(5)\n",
    "            for sequence in training_set:\n",
    "                sequence_delta_weights = calulate_sequence_delta_weights(sequence,weights,lmbda,learning_rate)\n",
    "                cumulative_delta_weights = cumulative_delta_weights + sequence_delta_weights\n",
    "            previous_weights = weights\n",
    "            weights = weights+cumulative_delta_weights\n",
    "            weights_diff = np.linalg.norm(previous_weights-weights)\n",
    "            continue_until_convergence = False if weights_diff < 0.0001 else True\n",
    "        rmse += np.sqrt(np.mean((weights-true_prob)**2))\n",
    "    return rmse"
   ]
  },
  {
   "cell_type": "markdown",
   "metadata": {},
   "source": [
    "# Single Presentation\n",
    "\n",
    "In Single Presentation, TD(Lambda) is run by presenting training set only once. The weight is update after each sequence. "
   ]
  },
  {
   "cell_type": "code",
   "execution_count": 7,
   "metadata": {},
   "outputs": [],
   "source": [
    "def TD_lambda_single_presentation(training_data,lmbda,learning_rate):\n",
    "    rmse = 0\n",
    "    for training_set in training_data:\n",
    "        weights = np.array([0.5,0.5,0.5,0.5,0.5])\n",
    "        for sequence in training_set:\n",
    "            sequence_delta_weights = calulate_sequence_delta_weights(sequence,weights,lmbda,learning_rate)\n",
    "            weights = weights+ sequence_delta_weights\n",
    "        rmse += np.sqrt(np.mean((weights-true_prob)**2))\n",
    "    return rmse"
   ]
  },
  {
   "cell_type": "markdown",
   "metadata": {},
   "source": [
    "# Experiment 1 \n",
    "\n",
    "Repeated Presentation TD(lambda) is exectued for lambda values of 0 to 1 with increment of 0.1"
   ]
  },
  {
   "cell_type": "code",
   "execution_count": 8,
   "metadata": {},
   "outputs": [],
   "source": [
    "experiment_1_lambdas = [0,0.1,0.3,0.5,0.7,0.9,1]\n",
    "experiment_1_rmse = []\n",
    "learning_rate = 0.01\n",
    "for _,lmbda in enumerate(experiment_1_lambdas):\n",
    "    rmse = TD_lambda_repeated_presentation(training_data,lmbda,learning_rate)\n",
    "    experiment_1_rmse.append(rmse)"
   ]
  },
  {
   "cell_type": "markdown",
   "metadata": {},
   "source": [
    "### Sutton Figure 3\n",
    "\n",
    "Based on Experiment 1, Error is plotted for each Lambda"
   ]
  },
  {
   "cell_type": "code",
   "execution_count": 9,
   "metadata": {},
   "outputs": [
    {
     "data": {
      "image/png": "[encoded data removed]",
      "text/plain": [
       "<Figure size 432x288 with 1 Axes>"
      ]
     },
     "metadata": {
      "needs_background": "light"
     },
     "output_type": "display_data"
    }
   ],
   "source": [
    "experiment_1_avg_rmse = [i/100 for i in experiment_1_rmse]\n",
    "repeated_df = pd.DataFrame({\"Lambda\":experiment_1_lambdas,\"RMSE\":experiment_1_avg_rmse})\n",
    "plt.plot(repeated_df[\"Lambda\"],repeated_df[\"RMSE\"],marker=\"o\")\n",
    "plt.xlabel(\"Lambda\")\n",
    "plt.ylabel(\"Error\")\n",
    "plt.savefig(\"repeated.png\")"
   ]
  },
  {
   "cell_type": "markdown",
   "metadata": {},
   "source": [
    "# Experiment 2 - Multiple Learning Rates\n",
    "\n",
    "Single Presentation TD(lambda) is executed for the lambda's 0,0.3,0.8 and 1 with multiple alpha values from 0 to 0.6."
   ]
  },
  {
   "cell_type": "code",
   "execution_count": 10,
   "metadata": {},
   "outputs": [],
   "source": [
    "experiment_2_1_alphas = list(np.arange(0,0.6,0.05))\n",
    "experiment_2_1_lambdas = [0,0.3,0.8,1]\n",
    "experiment_2_1_rmse = []\n",
    "for _,lmbda in enumerate(experiment_2_1_lambdas):\n",
    "    lambda_rmse = []\n",
    "    for _,alpha in enumerate(experiment_2_1_alphas):\n",
    "        rmse = TD_lambda_single_presentation(training_data,lmbda,alpha)\n",
    "        lambda_rmse.append(rmse)\n",
    "    experiment_2_1_rmse.append(lambda_rmse)"
   ]
  },
  {
   "cell_type": "markdown",
   "metadata": {},
   "source": [
    "### Sutton Figure 4\n",
    "\n",
    "Based on Experiment 2, Error is plotted for each Lambda(0,0.3,0.8,1) against different alpha values"
   ]
  },
  {
   "cell_type": "code",
   "execution_count": 11,
   "metadata": {},
   "outputs": [
    {
     "data": {
      "image/png": "[encoded data removed]",
      "text/plain": [
       "<Figure size 432x288 with 1 Axes>"
      ]
     },
     "metadata": {
      "needs_background": "light"
     },
     "output_type": "display_data"
    }
   ],
   "source": [
    "experiment_2_1_avg_rmse = [[i/100 for i in j] for j in experiment_2_1_rmse]\n",
    "all_alpha_df = pd.DataFrame({\"Alpha\":experiment_2_1_alphas\n",
    "                           ,\"L_0_RMSE\":experiment_2_1_avg_rmse[0]\n",
    "                          ,\"L_03_RMSE\":experiment_2_1_avg_rmse[1]\n",
    "                          ,\"L_08_RMSE\":experiment_2_1_avg_rmse[2]\n",
    "                          ,\"L_1_RMSE\":experiment_2_1_avg_rmse[3]})\n",
    "plt.plot(all_alpha_df[\"Alpha\"],all_alpha_df[\"L_0_RMSE\"],marker=\"o\",label=\"Lambda = 0\")\n",
    "plt.plot(all_alpha_df[\"Alpha\"],all_alpha_df[\"L_03_RMSE\"],marker=\"o\",label=\"Lambda = 0.3\")\n",
    "plt.plot(all_alpha_df[\"Alpha\"],all_alpha_df[\"L_08_RMSE\"],marker=\"o\",label=\"Lambda = 0.8\")\n",
    "plt.plot(all_alpha_df[\"Alpha\"],all_alpha_df[\"L_1_RMSE\"],marker=\"o\",label=\"Lambda = 1\")\n",
    "plt.legend()\n",
    "plt.xlabel(\"Alpha\")\n",
    "plt.ylabel(\"Error\")\n",
    "plt.savefig(\"all_alpha.png\")"
   ]
  },
  {
   "cell_type": "markdown",
   "metadata": {},
   "source": [
    "# Experiment 2 - Best Learning Rate\n",
    "\n",
    "This experiment is just repeatation of Experiment 2 for different lambda values from 0 to 1 with more granular alpha values between 0 and 0.5 to pick the best alpha value for each lambda"
   ]
  },
  {
   "cell_type": "code",
   "execution_count": 12,
   "metadata": {},
   "outputs": [],
   "source": [
    "experiment_2_2_alphas = list(np.arange(0,0.5,0.01))\n",
    "experiment_2_2_lambdas = [0,0.1,0.2,0.3,0.4,0.5,0.6,0.7,0.8,0.9,1]\n",
    "experiment_2_2_rmse = []\n",
    "for _,lmbda in enumerate(experiment_2_2_lambdas):\n",
    "    lambda_rmse = []\n",
    "    for _,alpha in enumerate(experiment_2_2_alphas):\n",
    "        rmse = TD_lambda_single_presentation(training_data,lmbda,alpha)\n",
    "        lambda_rmse.append(rmse)\n",
    "    experiment_2_2_rmse.append(lambda_rmse)"
   ]
  },
  {
   "cell_type": "markdown",
   "metadata": {},
   "source": [
    "### Sutton Figure 5\n",
    "\n",
    "Minimum Error(with Best Alpha) is plotted for each Lambda value"
   ]
  },
  {
   "cell_type": "code",
   "execution_count": 13,
   "metadata": {},
   "outputs": [
    {
     "data": {
      "image/png": "[encoded data removed]",
      "text/plain": [
       "<Figure size 432x288 with 1 Axes>"
      ]
     },
     "metadata": {
      "needs_background": "light"
     },
     "output_type": "display_data"
    }
   ],
   "source": [
    "experiment_2_2_min_rmse = [min(x) for x in experiment_2_2_rmse]\n",
    "experiment_2_2_avg_rmse = [i/100 for i in experiment_2_2_min_rmse]\n",
    "\n",
    "\n",
    "best_alpha_df = pd.DataFrame({\"Lambda\":experiment_2_2_lambdas\n",
    "                           ,\"MIN_RMSE\":experiment_2_2_avg_rmse})\n",
    "plt.plot(best_alpha_df[\"Lambda\"],best_alpha_df[\"MIN_RMSE\"],marker=\"o\")\n",
    "plt.xlabel(\"Lambda\")\n",
    "plt.ylabel(\"Error Using Best Alpha\")\n",
    "plt.savefig(\"best_alpha.png\")"
   ]
  },
  {
   "cell_type": "code",
   "execution_count": null,
   "metadata": {},
   "outputs": [],
   "source": []
  },
  {
   "cell_type": "code",
   "execution_count": null,
   "metadata": {},
   "outputs": [],
   "source": []
  }
 ],
 "metadata": {
  "kernelspec": {
   "display_name": "Python 3",
   "language": "python",
   "name": "python3"
  },
  "language_info": {
   "codemirror_mode": {
    "name": "ipython",
    "version": 3
   },
   "file_extension": ".py",
   "mimetype": "text/x-python",
   "name": "python",
   "nbconvert_exporter": "python",
   "pygments_lexer": "ipython3",
   "version": "3.7.6"
  }
 },
 "nbformat": 4,
 "nbformat_minor": 4
}
